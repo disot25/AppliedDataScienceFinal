{
 "cells": [
  {
   "cell_type": "markdown",
   "metadata": {},
   "source": [
    "\n",
    "<h3><font size=\"6\">Applied Data Science Final Project </font>\n",
    "<p><b><font size=\"3\">by Rene Disotuar</font> <br /> </p>\n"
   ]
  },
  {
   "cell_type": "markdown",
   "metadata": {},
   "source": [
    "<p> For this final project I wanted to look at the growth of the population in America, and see if the data \n",
    "would coincide with the suggestion that the earth population has been growing radpidly through out the years.<br />\n",
    "I started by importing the gapminder data and getting familiar with the data to have an understading of what would be needed \n",
    "to create an analysis, and answer whether or not the population of America has been growing rapidly.\n",
    "more than so over the past decades </p>\n",
    "\n",
    "<p>One of the first things noted was that the population column contained null values for some of the years \n",
    "and that needed to be correced before I could continue"
   ]
  },
  {
   "cell_type": "code",
   "execution_count": null,
   "metadata": {},
   "outputs": [],
   "source": [
    "import pandas as pd"
   ]
  },
  {
   "cell_type": "code",
   "execution_count": 2,
   "metadata": {},
   "outputs": [],
   "source": [
    "gpmind = pd.read_csv('gapminder.csv')"
   ]
  },
  {
   "cell_type": "code",
   "execution_count": 26,
   "metadata": {},
   "outputs": [],
   "source": [
    "def setNonNA(mydata):\n",
    "    i=0\n",
    "    while i < 41283: \n",
    "        if(pd.isnull(mydata.iloc[i,3]))==True:\n",
    "            mydata.iloc[i,3] = mydata.iloc[i-1,3]\n",
    "        elif (pd.isnull(mydata.iloc[i,3]))==False: \n",
    "            mydata.iloc[i,3] = mydata.iloc[i,3]          \n",
    "        i = i + 1\n",
    "    #print(mydata)\n",
    "    return mydata"
   ]
  },
  {
   "cell_type": "code",
   "execution_count": 30,
   "metadata": {},
   "outputs": [
    {
     "data": {
      "text/plain": [
       "False"
      ]
     },
     "execution_count": 30,
     "metadata": {},
     "output_type": "execute_result"
    }
   ],
   "source": [
    "gpmind.population.isnull().values.any()"
   ]
  },
  {
   "cell_type": "code",
   "execution_count": null,
   "metadata": {},
   "outputs": [],
   "source": [
    "gpmind.info()"
   ]
  },
  {
   "cell_type": "markdown",
   "metadata": {},
   "source": [
    "<p>Once the problem was fixed, understanding the data was the next step. Another problem came noticing \n",
    "that the population column was not a number and needed to be corrected before I continued. With the data in \n",
    "the proper format, selecting the specific population that I wanted to look at was the next step. The Gapminder Data has\n",
    "the population for all the contries and I wanted to find out about the American region specifically, a little more data wrangling was needed to only use the data for the American Region <br />\n",
    "<p>"
   ]
  },
  {
   "cell_type": "code",
   "execution_count": 41,
   "metadata": {},
   "outputs": [],
   "source": [
    "gpmind['population'] = gpmind.population.str.replace(',', '').astype(float)"
   ]
  },
  {
   "cell_type": "code",
   "execution_count": 43,
   "metadata": {},
   "outputs": [],
   "source": [
    "gpmindAmerica = gpmind[gpmind['region']==\"America\"]"
   ]
  },
  {
   "cell_type": "code",
   "execution_count": null,
   "metadata": {},
   "outputs": [],
   "source": [
    "gpmindAmerica.head()"
   ]
  },
  {
   "cell_type": "code",
   "execution_count": null,
   "metadata": {},
   "outputs": [],
   "source": [
    "gpmindAmerica.describe()"
   ]
  },
  {
   "cell_type": "code",
   "execution_count": null,
   "metadata": {},
   "outputs": [],
   "source": [
    "gpmindAmerica.info()"
   ]
  },
  {
   "cell_type": "code",
   "execution_count": null,
   "metadata": {},
   "outputs": [],
   "source": [
    "gpmindAmerica.shape"
   ]
  },
  {
   "cell_type": "code",
   "execution_count": null,
   "metadata": {},
   "outputs": [],
   "source": [
    "print(gpmindAmerica['Year'].max())\n",
    "print(gpmindAmerica['Year'].min())"
   ]
  },
  {
   "cell_type": "markdown",
   "metadata": {},
   "source": [
    "<p>The Gapminder Dataset for the region of America has a total of 7961 observations and 6 variables. The types of varriables in the dataset are float, int and object.\n",
    "The number of years in the dataset ranges from 1800 as the minimun to 2015 as the maximus and life expectancy from 9.7 to 81.7 with a mean of 44.54. \n",
    "    Before any analysis was done, a check to see if population still had null values was conducted to confirm the null values had been fixed.\n"
   ]
  },
  {
   "cell_type": "code",
   "execution_count": 51,
   "metadata": {},
   "outputs": [
    {
     "data": {
      "text/plain": [
       "False"
      ]
     },
     "execution_count": 51,
     "metadata": {},
     "output_type": "execute_result"
    }
   ],
   "source": [
    "gpmind.population.isnull().values.any()"
   ]
  },
  {
   "cell_type": "code",
   "execution_count": null,
   "metadata": {},
   "outputs": [],
   "source": [
    "gpmindAmerica.head()\n",
    "gpmindAmerica.groupby('Year').mean().head()\n",
    "gpmindAmerica.groupby('Year')['population'].mean().head()\n",
    "gpmindAmerica.groupby('Year')['population'].mean().tail()"
   ]
  },
  {
   "cell_type": "markdown",
   "metadata": {},
   "source": [
    "<p>At this point a scatter plot was used  to see a visualization of our data and have somehwat of an idea as to whether or not the question being researched needed to possibly be reevaluated "
   ]
  },
  {
   "cell_type": "code",
   "execution_count": 88,
   "metadata": {},
   "outputs": [
    {
     "data": {
      "text/plain": [
       "<matplotlib.axes._subplots.AxesSubplot at 0x1fcb0d8a400>"
      ]
     },
     "execution_count": 88,
     "metadata": {},
     "output_type": "execute_result"
    },
    {
     "data": {
      "image/png": "[encoded data removed]",
      "text/plain": [
       "<Figure size 432x288 with 1 Axes>"
      ]
     },
     "metadata": {
      "needs_background": "light"
     },
     "output_type": "display_data"
    }
   ],
   "source": [
    "import matplotlib.pyplot as plt\n",
    "gpmindAmerica.plot(kind='scatter', x=gpmindAmerica.columns[3], y = gpmindAmerica.columns[1])"
   ]
  },
  {
   "cell_type": "markdown",
   "metadata": {},
   "source": [
    "<p><font size=\"2\">The grap shows how the population has grown through out the years. More specifically the population had a steadly grow until around the 1970s and then we see how the population just rapidly grows over the pass decades just as we had expected to happen.\n",
    "    It was easy to notice the grow in population after the 1970s but from the 1800s the population grow seem to be steady over the years except for a small part of the population that seems to grow as fas as in the 1900s. In which case some analysis of some of the data between 1800s and 1900s was a good idead to see if the same pattern occured with a smaller dataset. The grow of the 1800s seems to start around 1850."
   ]
  },
  {
   "cell_type": "code",
   "execution_count": null,
   "metadata": {},
   "outputs": [],
   "source": [
    "gp1800 = gpmindAmerica[gpmindAmerica[\"Year\"] <=1899]\n",
    "gp1900 = gpmindAmerica[(gpmindAmerica[\"Year\"]<=1999) & (gpmindAmerica[\"Year\"]>=1900)]\n",
    "gp1900.head()"
   ]
  },
  {
   "cell_type": "code",
   "execution_count": 266,
   "metadata": {},
   "outputs": [
    {
     "data": {
      "text/plain": [
       "Text(0.5, 1.0, 'Americas Population by Country 1800s')"
      ]
     },
     "execution_count": 266,
     "metadata": {},
     "output_type": "execute_result"
    },
    {
     "data": {
      "image/png": "[encoded data removed]",
      "text/plain": [
       "<Figure size 432x288 with 1 Axes>"
      ]
     },
     "metadata": {
      "needs_background": "light"
     },
     "output_type": "display_data"
    }
   ],
   "source": [
    "# library & dataset\n",
    "import seaborn as sns\n",
    "df = sns.load_dataset('iris')\n",
    " \n",
    "ax18  = sns.boxplot( x=gp1800['Country'], y=gp1800['population'] )\n",
    "ax18.set_xticklabels(ax18.get_xticklabels(),rotation=90)\n",
    "ax18.set_title('Americas Population by Country 1800s')"
   ]
  },
  {
   "cell_type": "code",
   "execution_count": 265,
   "metadata": {},
   "outputs": [
    {
     "data": {
      "text/plain": [
       "Text(0.5, 1.0, 'Americas Population by Country 1900s')"
      ]
     },
     "execution_count": 265,
     "metadata": {},
     "output_type": "execute_result"
    },
    {
     "data": {
      "image/png": "[encoded data removed]",
      "text/plain": [
       "<Figure size 432x288 with 1 Axes>"
      ]
     },
     "metadata": {
      "needs_background": "light"
     },
     "output_type": "display_data"
    }
   ],
   "source": [
    "ax19  = sns.boxplot( x=gp1900['Country'], y=gp1900['population'] )\n",
    "ax19.set_xticklabels(ax19.get_xticklabels(),rotation=90)\n",
    "ax19.set_title('Americas Population by Country 1900s')"
   ]
  },
  {
   "cell_type": "markdown",
   "metadata": {},
   "source": [
    "<p>By looking at the Box plot we can see how a few countries in the 1800s are the ones that marked the rapid grow for the period. During the 1900s the same countries continue this rapid grow while some others start growing at a rapidly as well which adds to the bigger grow seen during the 1900s"
   ]
  },
  {
   "cell_type": "code",
   "execution_count": 66,
   "metadata": {},
   "outputs": [],
   "source": [
    "from sklearn.cluster import KMeans\n",
    "import numpy as np"
   ]
  },
  {
   "cell_type": "code",
   "execution_count": null,
   "metadata": {},
   "outputs": [],
   "source": []
  },
  {
   "cell_type": "markdown",
   "metadata": {},
   "source": [
    "<p>Using cluster analysis of a few data points from 1800s and 1900s we can look at the population grow and analyze the pattern during the time period. A data point was picked from each decade of the 1800s 1900s."
   ]
  },
  {
   "cell_type": "code",
   "execution_count": 70,
   "metadata": {},
   "outputs": [],
   "source": [
    "gp1800unique = gp1800unique[[\"population\",\"Year\"]]\n",
    "gp1900unique = gp1900unique[[\"population\",\"Year\"]]"
   ]
  },
  {
   "cell_type": "code",
   "execution_count": null,
   "metadata": {},
   "outputs": [],
   "source": [
    "gp1800unique.tail(40)\n",
    "gp1800unique.head(40)"
   ]
  },
  {
   "cell_type": "code",
   "execution_count": null,
   "metadata": {},
   "outputs": [],
   "source": [
    "gp1900unique.tail(40)\n",
    "gp1900unique.head(40)"
   ]
  },
  {
   "cell_type": "code",
   "execution_count": 77,
   "metadata": {},
   "outputs": [],
   "source": [
    "x = np.array([[34925, 1900],\n",
    "              [32119, 1910],\n",
    "              [30000, 1920],\n",
    "              [33647, 1930],\n",
    "              [38495, 1940],\n",
    "              [32632, 1960],\n",
    "              [64070, 1970],\n",
    "              [98423, 1980],\n",
    "              [103253,1990],\n",
    "              [37000, 1800],\n",
    "              [37000, 1810],\n",
    "              [37000, 1820],\n",
    "              [37000, 1830],\n",
    "              [37000, 1840],\n",
    "              [38020, 1860],\n",
    "              [36892, 1870],\n",
    "              [34553, 1880],\n",
    "              [32805, 1890]\n",
    "             ])"
   ]
  },
  {
   "cell_type": "markdown",
   "metadata": {},
   "source": [
    "<p> With an array from the data points selected a cluster analysis was created to see the population growth"
   ]
  },
  {
   "cell_type": "code",
   "execution_count": 78,
   "metadata": {},
   "outputs": [
    {
     "name": "stdout",
     "output_type": "stream",
     "text": [
      "[[ 37072.375   1883.125]\n",
      " [100838.      1985.   ]]\n",
      "[0 0 0 0 0 0 0 1 1 0 0 0 0 0 0 0 0 0]\n"
     ]
    }
   ],
   "source": [
    "kmeans = KMeans(n_clusters = 2)\n",
    "kmeans.fit(x)\n",
    "\n",
    "centrois = kmeans.cluster_centers_\n",
    "labels = kmeans.labels_\n",
    "\n",
    "print(centrois)\n",
    "print(labels)"
   ]
  },
  {
   "cell_type": "code",
   "execution_count": 223,
   "metadata": {},
   "outputs": [
    {
     "data": {
      "image/png": "[encoded data removed]",
      "text/plain": [
       "<Figure size 432x288 with 1 Axes>"
      ]
     },
     "metadata": {
      "needs_background": "light"
     },
     "output_type": "display_data"
    }
   ],
   "source": [
    "colors = [\"r.\",\"c.\"]\n",
    "\n",
    "for i in range(len(x)):\n",
    "    #print(\"coordinate:\",x[i], \"label:\", labels[i])\n",
    "    plt.plot(x[i][0], x[i][1], colors[labels[i]], markersize = 15)\n",
    "\n",
    "plt.title('Cluster of American Region Population 1800s to 1900s')\n",
    "plt.ylabel('Years')\n",
    "plt.xlabel('Population')\n",
    "plt.scatter(centrois[:, 0],centrois[:, 1], marker = \"x\", s=150, linewidths = 5, zorder = 10)\n",
    "\n",
    "plt.show()"
   ]
  },
  {
   "cell_type": "markdown",
   "metadata": {},
   "source": [
    "<p>The graph above represents the cluster analysis of the selected points, we can visualize how the population was steadly growing \n",
    "until around 1970. There is even around the end of the 1800s and beginning of 1900 a period where the population actually declines and then it takes a big jump around 1970 and from there it really starts to grow. The graphs also shows a period around 1860 where the population has a bigger grow than the rest of period. The model acurately reppresents that notion that through the years the population has been growing and even more rapidly over the past decades.\n",
    "<p>A regression analysis was also ran between the datasets."
   ]
  },
  {
   "cell_type": "code",
   "execution_count": 89,
   "metadata": {},
   "outputs": [],
   "source": [
    "from sklearn import datasets, linear_model\n",
    "from sklearn.metrics import mean_squared_error, r2_score"
   ]
  },
  {
   "cell_type": "code",
   "execution_count": 92,
   "metadata": {},
   "outputs": [],
   "source": [
    "regr = linear_model.LinearRegression()"
   ]
  },
  {
   "cell_type": "code",
   "execution_count": 129,
   "metadata": {},
   "outputs": [],
   "source": [
    "gp1800popX = np.array([[37000],\n",
    "              [37000],\n",
    "              [37000],\n",
    "              [37000],\n",
    "              [37000],\n",
    "              [38020],\n",
    "              [36892],\n",
    "              [34553],\n",
    "              [32805]\n",
    "             ]);"
   ]
  },
  {
   "cell_type": "code",
   "execution_count": 130,
   "metadata": {},
   "outputs": [],
   "source": [
    " gp1800yrY = np.array([[1800],\n",
    "                       [1810],\n",
    "                       [1820],\n",
    "                       [1830],\n",
    "                       [1840],\n",
    "                       [1860],\n",
    "                       [1870],\n",
    "                       [1880],\n",
    "                       [1890]]); "
   ]
  },
  {
   "cell_type": "code",
   "execution_count": 131,
   "metadata": {},
   "outputs": [],
   "source": [
    "gp1900popX = np.array([[34925],\n",
    "              [32119],\n",
    "              [30000],\n",
    "              [33647],\n",
    "              [38495],\n",
    "              [32632],\n",
    "              [64070],\n",
    "              [98423],\n",
    "              [103253]\n",
    "             ])"
   ]
  },
  {
   "cell_type": "code",
   "execution_count": 132,
   "metadata": {},
   "outputs": [],
   "source": [
    " gp1900yrY = np.array([[1900],\n",
    "                       [1910],\n",
    "                       [1920],\n",
    "                       [1930],\n",
    "                       [1940],\n",
    "                       [1960],\n",
    "                       [1970],\n",
    "                       [1980],\n",
    "                       [1990]]); "
   ]
  },
  {
   "cell_type": "code",
   "execution_count": 213,
   "metadata": {},
   "outputs": [
    {
     "data": {
      "text/plain": [
       "LinearRegression(copy_X=True, fit_intercept=True, n_jobs=None,\n",
       "         normalize=False)"
      ]
     },
     "execution_count": 213,
     "metadata": {},
     "output_type": "execute_result"
    }
   ],
   "source": [
    "regr.fit(gp1800yrY,gp1900yrY)"
   ]
  },
  {
   "cell_type": "code",
   "execution_count": 214,
   "metadata": {},
   "outputs": [],
   "source": [
    "gp1800popYpred = regr.predict(gp1900popX)"
   ]
  },
  {
   "cell_type": "code",
   "execution_count": 222,
   "metadata": {},
   "outputs": [
    {
     "data": {
      "image/png": "[encoded data removed]",
      "text/plain": [
       "<Figure size 432x288 with 1 Axes>"
      ]
     },
     "metadata": {},
     "output_type": "display_data"
    }
   ],
   "source": [
    "# Plot outputs\n",
    "plt.scatter(gp1800popX, gp1800yrY, color='black')\n",
    "plt.plot(gp1900popX, gp1800popYpred, color='blue', linewidth=2)\n",
    "\n",
    "plt.xticks(())\n",
    "plt.yticks(())\n",
    "plt.ylabel('Years')\n",
    "plt.xlabel('Population')\n",
    "plt.title('Regression Analysis Americas Population 1800s to 1900s')\n",
    "plt.show()"
   ]
  },
  {
   "cell_type": "markdown",
   "metadata": {},
   "source": [
    "<p>The Graph shows that for the 1900s we shuold expect our population to be above and grow much more than during the 1800s.\n",
    "As we expected the population of Americas has grown a lot more during the passed decades that it did in the 1800s. For the most parts the same countries are the ones that have sustained the rapid growth that even started in the 1800s and really took of in the 1900s. During the 1900s other countries become part of the rapid grow as well.\n",
    "<p> After analizing the data I can confirm the question that the population of America has been growing rapidly specially over the past decades"
   ]
  }
 ],
 "metadata": {
  "kernelspec": {
   "display_name": "Python 3",
   "language": "python",
   "name": "python3"
  },
  "language_info": {
   "codemirror_mode": {
    "name": "ipython",
    "version": 3
   },
   "file_extension": ".py",
   "mimetype": "text/x-python",
   "name": "python",
   "nbconvert_exporter": "python",
   "pygments_lexer": "ipython3",
   "version": "3.7.3"
  }
 },
 "nbformat": 4,
 "nbformat_minor": 2
}
